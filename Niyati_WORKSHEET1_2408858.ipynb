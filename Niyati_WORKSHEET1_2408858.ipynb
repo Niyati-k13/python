{
  "nbformat": 4,
  "nbformat_minor": 0,
  "metadata": {
    "colab": {
      "provenance": []
    },
    "kernelspec": {
      "name": "python3",
      "display_name": "Python 3"
    },
    "language_info": {
      "name": "python"
    }
  },
  "cells": [
    {
      "cell_type": "code",
      "execution_count": 25,
      "metadata": {
        "id": "bGdMZhyB7mGM",
        "colab": {
          "base_uri": "https://localhost:8080/"
        },
        "outputId": "4ef9bb82-0bea-44af-cef6-98762f5158d8"
      },
      "outputs": [
        {
          "output_type": "stream",
          "name": "stdout",
          "text": [
            "Empty 2x2 Array:\n",
            " [[4.75808928e-310 0.00000000e+000]\n",
            " [2.46151512e-312 6.37114676e-067]]\n"
          ]
        }
      ],
      "source": [
        "#4.1 task1\n",
        "import numpy as np\n",
        "\n",
        "# 1. Initialize an empty array with size 2X2\n",
        "empty = np.empty((2, 2))\n",
        "print(\"Empty 2x2 Array:\\n\", empty)"
      ]
    },
    {
      "cell_type": "code",
      "source": [
        "#2. Initialize an all one array with size 4X2.\n",
        "import numpy as np\n",
        "\n",
        "# Initialize a 4x2 array filled with ones\n",
        "array = np.ones((4, 2))\n",
        "\n",
        "# Print the array to verify initialization\n",
        "print(array)"
      ],
      "metadata": {
        "colab": {
          "base_uri": "https://localhost:8080/"
        },
        "id": "Trm-0hE__X4f",
        "outputId": "f44be7a7-f64e-432c-f588-95e988770ebe"
      },
      "execution_count": 2,
      "outputs": [
        {
          "output_type": "stream",
          "name": "stdout",
          "text": [
            "[[1. 1.]\n",
            " [1. 1.]\n",
            " [1. 1.]\n",
            " [1. 1.]]\n"
          ]
        }
      ]
    },
    {
      "cell_type": "code",
      "source": [
        "#3 Return a new array of given shape and type, filled with fill value.{Hint: np.full}\n",
        "shape = (3, 3)  # Example shape\n",
        "fill_value = 7  # Example fill value\n",
        "filled_array = np.full(shape, fill_value) #CUSTOM\n",
        "print(filled_array)\n"
      ],
      "metadata": {
        "colab": {
          "base_uri": "https://localhost:8080/"
        },
        "id": "Xg8dFde5AW5R",
        "outputId": "c0753065-9f68-4080-d86a-f891cf01c6aa"
      },
      "execution_count": 3,
      "outputs": [
        {
          "output_type": "stream",
          "name": "stdout",
          "text": [
            "[[7 7 7]\n",
            " [7 7 7]\n",
            " [7 7 7]]\n"
          ]
        }
      ]
    },
    {
      "cell_type": "code",
      "source": [
        "#4\n",
        "existing_array = np.array([[1, 2], [3, 4]])  # Example existing array\n",
        "zeros_like_array = np.zeros_like(existing_array)\n",
        "print(zeros_like_array)\n"
      ],
      "metadata": {
        "colab": {
          "base_uri": "https://localhost:8080/"
        },
        "id": "ZE0YmmkmAbRK",
        "outputId": "c3d6c774-b241-4f4a-8f4d-3a941884ef0a"
      },
      "execution_count": 4,
      "outputs": [
        {
          "output_type": "stream",
          "name": "stdout",
          "text": [
            "[[0 0]\n",
            " [0 0]]\n"
          ]
        }
      ]
    },
    {
      "cell_type": "code",
      "source": [
        "# 5 Return a new array of ones with the same shape and type as a given array\n",
        "ones_like_array = np.ones_like(existing_array)\n",
        "print(ones_like_array)"
      ],
      "metadata": {
        "colab": {
          "base_uri": "https://localhost:8080/"
        },
        "id": "XDIf4yqpAgBF",
        "outputId": "77bdf333-c418-483c-af48-d9715e56f852"
      },
      "execution_count": 5,
      "outputs": [
        {
          "output_type": "stream",
          "name": "stdout",
          "text": [
            "[[1 1]\n",
            " [1 1]]\n"
          ]
        }
      ]
    },
    {
      "cell_type": "code",
      "source": [
        "#6 Convert an existing list to a NumPy array\n",
        "new_list = [1, 2, 3, 4]\n",
        "numpy_array = np.array(new_list)\n",
        "print(numpy_array)"
      ],
      "metadata": {
        "colab": {
          "base_uri": "https://localhost:8080/"
        },
        "id": "U5aDOle1Aj9B",
        "outputId": "f78ec996-f68e-4ed5-e86a-b68bb6b66897"
      },
      "execution_count": 6,
      "outputs": [
        {
          "output_type": "stream",
          "name": "stdout",
          "text": [
            "[1 2 3 4]\n"
          ]
        }
      ]
    },
    {
      "cell_type": "code",
      "source": [
        "#4.1.1 Problem - 2: Array Manipulation: Numerical Ranges and Array indexing:\n",
        "#1. Create an array with values ranging from 10 to 49. {Hint:np.arrange()}.\n",
        "import numpy as np\n",
        "#rANDOM VALUE FROM 10 TO 49\n",
        "array_range = np.arange(10, 50)\n",
        "print(array_range)\n"
      ],
      "metadata": {
        "colab": {
          "base_uri": "https://localhost:8080/"
        },
        "id": "A4m8tX_nApCG",
        "outputId": "4492926c-3aa7-4703-ea33-8f9130e548c2"
      },
      "execution_count": 7,
      "outputs": [
        {
          "output_type": "stream",
          "name": "stdout",
          "text": [
            "[10 11 12 13 14 15 16 17 18 19 20 21 22 23 24 25 26 27 28 29 30 31 32 33\n",
            " 34 35 36 37 38 39 40 41 42 43 44 45 46 47 48 49]\n"
          ]
        }
      ]
    },
    {
      "cell_type": "code",
      "source": [
        "#2. Create a 3x3 matrix with values ranging from 0 to 8\n",
        "matrix_3x3 = np.arange(0, 9).reshape(3, 3)\n",
        "print(matrix_3x3)\n",
        "\n"
      ],
      "metadata": {
        "colab": {
          "base_uri": "https://localhost:8080/"
        },
        "id": "2HdFy5jdAwWK",
        "outputId": "3ab4fe55-8d83-4b32-8f24-82f722134318"
      },
      "execution_count": 8,
      "outputs": [
        {
          "output_type": "stream",
          "name": "stdout",
          "text": [
            "[[0 1 2]\n",
            " [3 4 5]\n",
            " [6 7 8]]\n"
          ]
        }
      ]
    },
    {
      "cell_type": "code",
      "source": [
        "#3. Create a 3x3 identity matrix\n",
        "identity_matrix = np.eye(3) #INVERSE\n",
        "print(identity_matrix)\n"
      ],
      "metadata": {
        "colab": {
          "base_uri": "https://localhost:8080/"
        },
        "id": "WbHHlnoPA0mq",
        "outputId": "689c3f84-272d-4146-ebfa-577859b8db38"
      },
      "execution_count": 9,
      "outputs": [
        {
          "output_type": "stream",
          "name": "stdout",
          "text": [
            "[[1. 0. 0.]\n",
            " [0. 1. 0.]\n",
            " [0. 0. 1.]]\n"
          ]
        }
      ]
    },
    {
      "cell_type": "code",
      "source": [
        "#4.Create a random array of size 30 and find the mean of the array\n",
        "random_array = np.random.random(30)\n",
        "mean_value = random_array.mean()\n",
        "print(\"Mean of the array:\", mean_value)\n"
      ],
      "metadata": {
        "colab": {
          "base_uri": "https://localhost:8080/"
        },
        "id": "zL9GPz5MA4jC",
        "outputId": "5f749e46-65f4-4cec-aca8-19ec4c561004"
      },
      "execution_count": 10,
      "outputs": [
        {
          "output_type": "stream",
          "name": "stdout",
          "text": [
            "Mean of the array: 0.5455740158311685\n"
          ]
        }
      ]
    },
    {
      "cell_type": "code",
      "source": [
        "#5.Create a 10x10 array with random values and find the minimum and maximum values\n",
        "random_10x10 = np.random.random((10, 10))\n",
        "min_value = random_10x10.min()#0TO1\n",
        "max_value = random_10x10.max()\n",
        "print(\"Minimum value:\", min_value)\n",
        "print(\"Maximum value:\", max_value)"
      ],
      "metadata": {
        "colab": {
          "base_uri": "https://localhost:8080/"
        },
        "id": "wSeRdCLpA7aP",
        "outputId": "37196058-1ad3-4a65-f18a-29ed086fd0a2"
      },
      "execution_count": 11,
      "outputs": [
        {
          "output_type": "stream",
          "name": "stdout",
          "text": [
            "Minimum value: 0.005109761391469569\n",
            "Maximum value: 0.9989277335329652\n"
          ]
        }
      ]
    },
    {
      "cell_type": "code",
      "source": [
        "#6.Create a zero array of size 10 and replace the 5th element with 1\n",
        "zero_array = np.zeros(10)\n",
        "zero_array[4] = 1  # Index 4 corresponds to the 5th element\n",
        "print(zero_array)\n"
      ],
      "metadata": {
        "colab": {
          "base_uri": "https://localhost:8080/"
        },
        "id": "FGI9euGLA956",
        "outputId": "c8f14ffe-722b-4e5d-f865-3d820071c32b"
      },
      "execution_count": 12,
      "outputs": [
        {
          "output_type": "stream",
          "name": "stdout",
          "text": [
            "[0. 0. 0. 0. 1. 0. 0. 0. 0. 0.]\n"
          ]
        }
      ]
    },
    {
      "cell_type": "code",
      "source": [
        "#7. Reverse an array arr = [1, 2, 0, 0, 4, 0]\n",
        "arr = np.array([1, 2, 0, 0, 4, 0])\n",
        "reversed_arr = arr[::-1]\n",
        "print(reversed_arr)"
      ],
      "metadata": {
        "colab": {
          "base_uri": "https://localhost:8080/"
        },
        "id": "a_pXQ2LhBAhD",
        "outputId": "b8f261f4-5ae2-4691-a391-511b19c16390"
      },
      "execution_count": 13,
      "outputs": [
        {
          "output_type": "stream",
          "name": "stdout",
          "text": [
            "[0 4 0 0 2 1]\n"
          ]
        }
      ]
    },
    {
      "cell_type": "code",
      "source": [
        "#8. Create a 2D array with 1 on the border and 0 inside\n",
        "border_array = np.ones((5, 5))  # Creating a 5x5 array\n",
        "border_array[1:-1, 1:-1] = 0  # Setting inner elements to 0\n",
        "print(border_array)\n"
      ],
      "metadata": {
        "colab": {
          "base_uri": "https://localhost:8080/"
        },
        "id": "hMHNiqRWBDRd",
        "outputId": "07fdbf0d-4e54-4570-bbf1-462367f8fb30"
      },
      "execution_count": 14,
      "outputs": [
        {
          "output_type": "stream",
          "name": "stdout",
          "text": [
            "[[1. 1. 1. 1. 1.]\n",
            " [1. 0. 0. 0. 1.]\n",
            " [1. 0. 0. 0. 1.]\n",
            " [1. 0. 0. 0. 1.]\n",
            " [1. 1. 1. 1. 1.]]\n"
          ]
        }
      ]
    },
    {
      "cell_type": "code",
      "source": [
        "#9. Create an 8x8 matrix and fill it with a checkerboard pattern\n",
        "checkerboard = np.zeros((8, 8))\n",
        "checkerboard[1::2, ::2] = 1  # Fill 1s in even rows\n",
        "checkerboard[::2, 1::2] = 1  # Fill 1s in odd rows\n",
        "print(checkerboard)"
      ],
      "metadata": {
        "colab": {
          "base_uri": "https://localhost:8080/"
        },
        "id": "7UhDE2y5BHQk",
        "outputId": "5ff5333e-911d-49c0-c64c-c2172e939fe1"
      },
      "execution_count": 15,
      "outputs": [
        {
          "output_type": "stream",
          "name": "stdout",
          "text": [
            "[[0. 1. 0. 1. 0. 1. 0. 1.]\n",
            " [1. 0. 1. 0. 1. 0. 1. 0.]\n",
            " [0. 1. 0. 1. 0. 1. 0. 1.]\n",
            " [1. 0. 1. 0. 1. 0. 1. 0.]\n",
            " [0. 1. 0. 1. 0. 1. 0. 1.]\n",
            " [1. 0. 1. 0. 1. 0. 1. 0.]\n",
            " [0. 1. 0. 1. 0. 1. 0. 1.]\n",
            " [1. 0. 1. 0. 1. 0. 1. 0.]]\n"
          ]
        }
      ]
    },
    {
      "cell_type": "code",
      "source": [
        "#Problem - 3: Array Operations:\n",
        "#For the following arrays:\n",
        "#x = np.array([[1,2],[3,5]]) and y = np.array([[5,6],[7,8]]);\n",
        "#v = np.array([9,10]) and w = np.array([11,12]);\n",
        "#Complete all the task using numpy:\n",
        "#1. Add the two array.\n",
        "import numpy as np\n",
        "\n",
        "x = np.array([[1, 2], [3, 5]])\n",
        "y = np.array([[5, 6], [7, 8]])\n",
        "v = np.array([9, 10])\n",
        "w = np.array([11, 12])\n",
        "\n",
        "addition_result = x + y\n",
        "print(\"Addition:\\n\", addition_result)"
      ],
      "metadata": {
        "colab": {
          "base_uri": "https://localhost:8080/"
        },
        "id": "5m9DovpeBKhw",
        "outputId": "bd891947-d30e-4893-a7f9-f6e6153706d6"
      },
      "execution_count": 16,
      "outputs": [
        {
          "output_type": "stream",
          "name": "stdout",
          "text": [
            "Addition:\n",
            " [[ 6  8]\n",
            " [10 13]]\n"
          ]
        }
      ]
    },
    {
      "cell_type": "code",
      "source": [
        "#2 Subtract the two arrays\n",
        "subtraction_result = x - y\n",
        "print(\"Subtraction:\\n\", subtraction_result)\n"
      ],
      "metadata": {
        "colab": {
          "base_uri": "https://localhost:8080/"
        },
        "id": "GHIeB29WBNwf",
        "outputId": "3a3bb0f4-c0a3-4178-f450-20500737aaa9"
      },
      "execution_count": 17,
      "outputs": [
        {
          "output_type": "stream",
          "name": "stdout",
          "text": [
            "Subtraction:\n",
            " [[-4 -4]\n",
            " [-4 -3]]\n"
          ]
        }
      ]
    },
    {
      "cell_type": "code",
      "source": [
        "#3. Multiply the array with any integers of your choice\n",
        "multiplication_result = x * 2  # Multiplying by 2\n",
        "print(\"Multiplication by 2:\\n\", multiplication_result)"
      ],
      "metadata": {
        "colab": {
          "base_uri": "https://localhost:8080/"
        },
        "id": "-oyD9mdfBSWz",
        "outputId": "17120d4b-2145-416f-cac2-0d2ea57f8900"
      },
      "execution_count": 18,
      "outputs": [
        {
          "output_type": "stream",
          "name": "stdout",
          "text": [
            "Multiplication by 2:\n",
            " [[ 2  4]\n",
            " [ 6 10]]\n"
          ]
        }
      ]
    },
    {
      "cell_type": "code",
      "source": [
        "#4. Find the square of each element of the array\n",
        "squared_result = np.square(x)\n",
        "print(\"Square of each element:\\n\", squared_result)\n"
      ],
      "metadata": {
        "colab": {
          "base_uri": "https://localhost:8080/"
        },
        "id": "nui2uLGeBYA4",
        "outputId": "07141747-91bd-46b6-e741-1341f254fe18"
      },
      "execution_count": 19,
      "outputs": [
        {
          "output_type": "stream",
          "name": "stdout",
          "text": [
            "Square of each element:\n",
            " [[ 1  4]\n",
            " [ 9 25]]\n"
          ]
        }
      ]
    },
    {
      "cell_type": "code",
      "source": [
        "#5. Find the dot product\n",
        "dot_product_vw = np.dot(v, w)  # Dot product of v and w\n",
        "dot_product_xv = np.dot(x, v)  # Dot product of x and v\n",
        "dot_product_xy = np.dot(x, y)  # Dot product of x and y\n",
        "\n",
        "print(\"Dot product v and w:\", dot_product_vw)\n",
        "print(\"Dot product x and v:\\n\", dot_product_xv)\n",
        "print(\"Dot product x and y:\\n\", dot_product_xy)"
      ],
      "metadata": {
        "colab": {
          "base_uri": "https://localhost:8080/"
        },
        "id": "NVcnzbsuBjwQ",
        "outputId": "5d92dfa1-0970-4efb-e97b-493437883bb8"
      },
      "execution_count": 20,
      "outputs": [
        {
          "output_type": "stream",
          "name": "stdout",
          "text": [
            "Dot product v and w: 219\n",
            "Dot product x and v:\n",
            " [29 77]\n",
            "Dot product x and y:\n",
            " [[19 22]\n",
            " [50 58]]\n"
          ]
        }
      ]
    },
    {
      "cell_type": "code",
      "source": [
        "#6. Concatenate x and y along row and v and w along column\n",
        "concatenated_xy_row = np.concatenate((x, y), axis=0)  # Concatenate along rows\n",
        "concatenated_vw_column = np.concatenate((v.reshape(-1, 1), w.reshape(-1, 1)), axis=1)  # Reshape and concatenate along columns\n",
        "\n",
        "print(\"Concatenated x and y along rows:\\n\", concatenated_xy_row)\n",
        "print(\"Concatenated v and w along columns:\\n\", concatenated_vw_column)"
      ],
      "metadata": {
        "colab": {
          "base_uri": "https://localhost:8080/"
        },
        "id": "uptb7bA0Bmp_",
        "outputId": "cc560a82-723b-4735-dbf9-4a8040a805d4"
      },
      "execution_count": 21,
      "outputs": [
        {
          "output_type": "stream",
          "name": "stdout",
          "text": [
            "Concatenated x and y along rows:\n",
            " [[1 2]\n",
            " [3 5]\n",
            " [5 6]\n",
            " [7 8]]\n",
            "Concatenated v and w along columns:\n",
            " [[ 9 11]\n",
            " [10 12]]\n"
          ]
        }
      ]
    },
    {
      "cell_type": "code",
      "source": [
        "#7. Concatenate x and v; if you get an error, observe and explain why you got the error\n",
        "try:\n",
        "    concatenated_xv = np.concatenate((x, v.reshape(1, -1)), axis=0)  # Attempt to concatenate\n",
        "except ValueError as e:\n",
        "    print(\"Error:\", e)"
      ],
      "metadata": {
        "id": "QRnHxtyhBq79"
      },
      "execution_count": 23,
      "outputs": []
    },
    {
      "cell_type": "code",
      "source": [
        "#Problem - 4: Matrix Operations:\n",
        "import numpy as np\n",
        "\n",
        "# Given matrices in ques\n",
        "A = np.array([[3, 4], [7, 8]])\n",
        "B = np.array([[5, 3], [2, 1]])\n",
        "\n",
        "# 1. Prove A * A_inv = I\n",
        "A_inv = np.linalg.inv(A)\n",
        "identity_matrix = np.dot(A, A_inv)\n",
        "print(\"A * A_inv:\\n\", identity_matrix)\n",
        "\n",
        "# 2. Prove AB ≠ BA\n",
        "AB = np.dot(A, B)\n",
        "BA = np.dot(B, A)\n",
        "print(\"AB:\\n\", AB)\n",
        "print(\"BA:\\n\", BA)\n",
        "are_equal = np.array_equal(AB, BA)\n",
        "print(\"AB equals BA:\", are_equal)\n",
        "\n",
        "# 3. Prove (AB)^T = B^T A^T\n",
        "AB_transpose = np.transpose(AB)\n",
        "BT_AT = np.dot(np.transpose(B), np.transpose(A))\n",
        "print(\"Transpose of AB:\\n\", AB_transpose)\n",
        "print(\"B^T * A^T:\\n\", BT_AT)\n",
        "is_transpose_equal = np.array_equal(AB_transpose, BT_AT)\n",
        "print(\"Transpose of AB equals B^T * A^T:\", is_transpose_equal)\n",
        "\n",
        "# Solve the system of linear equations\n",
        "A_coeff = np.array([[2, -3, 1],\n",
        "                    [1, -1, 2],\n",
        "                    [3, 1, -1]])\n",
        "B_const = np.array([-1, -3, 9])\n",
        "\n",
        "# Solve for X using Inverse Method\n",
        "X = np.linalg.inv(A_coeff).dot(B_const)\n",
        "print(\"Solution using Inverse Method:\\n\", X)"
      ],
      "metadata": {
        "colab": {
          "base_uri": "https://localhost:8080/"
        },
        "id": "Djsc1cOpBvaw",
        "outputId": "3f661859-5343-49d5-e4de-6c9f6ea16c6b"
      },
      "execution_count": 24,
      "outputs": [
        {
          "output_type": "stream",
          "name": "stdout",
          "text": [
            "A * A_inv:\n",
            " [[1.00000000e+00 0.00000000e+00]\n",
            " [1.77635684e-15 1.00000000e+00]]\n",
            "AB:\n",
            " [[23 13]\n",
            " [51 29]]\n",
            "BA:\n",
            " [[36 44]\n",
            " [13 16]]\n",
            "AB equals BA: False\n",
            "Transpose of AB:\n",
            " [[23 51]\n",
            " [13 29]]\n",
            "B^T * A^T:\n",
            " [[23 51]\n",
            " [13 29]]\n",
            "Transpose of AB equals B^T * A^T: True\n",
            "Solution using Inverse Method:\n",
            " [ 2.  1. -2.]\n"
          ]
        }
      ]
    },
    {
      "cell_type": "code",
      "source": [],
      "metadata": {
        "id": "PWM-KDnICGlW"
      },
      "execution_count": null,
      "outputs": []
    }
  ]
}